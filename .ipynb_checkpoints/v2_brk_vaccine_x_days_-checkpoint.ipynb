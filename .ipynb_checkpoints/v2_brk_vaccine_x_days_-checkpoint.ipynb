{
 "cells": [
  {
   "cell_type": "markdown",
   "metadata": {},
   "source": [
    "# Warren Buffet's Stock Pricdictor 🔮\n",
    "Calculate Berkshire Hathaway Class B(BRK-B) stock's value one year from today \n",
    "\n",
    "![](https://s.hdnux.com/photos/45/63/26/9909658/7/rawImage.jpg)"
   ]
  },
  {
   "cell_type": "code",
   "execution_count": 911,
   "metadata": {},
   "outputs": [],
   "source": [
    "# given_data is a dictionary of stock to a tuple of information\n",
    "given_data = {}"
   ]
  },
  {
   "cell_type": "code",
   "execution_count": 912,
   "metadata": {},
   "outputs": [
    {
     "name": "stdout",
     "output_type": "stream",
     "text": [
      "300.63\n"
     ]
    }
   ],
   "source": [
    "# apple share may 2020 = $300.63, av share price 2019 was = $ 280.10, and delta is $20.53\n",
    "given_data[\"APPL\"] = (300.63, 280.10, 20.53)\n",
    "print(given_data[\"APPL\"][0])"
   ]
  },
  {
   "cell_type": "code",
   "execution_count": 913,
   "metadata": {},
   "outputs": [
    {
     "name": "stdout",
     "output_type": "stream",
     "text": [
      "20.12\n"
     ]
    }
   ],
   "source": [
    "# add rest of derived data\n",
    "given_data[\"BAC\"] = (22.35, 29.89, -7.54)\n",
    "given_data[\"KO\"] = (44.75, 52.24, -7.79)\n",
    "given_data[\"AXP\"] = (20.12, 25.62, -5.50)\n",
    "given_data[\"WFC\"] = (25.61, 43.97, -18.36)\n",
    "print(given_data[\"AXP\"][0])"
   ]
  },
  {
   "cell_type": "code",
   "execution_count": 914,
   "metadata": {},
   "outputs": [],
   "source": [
    "# derived_price will store share prices of stocks prices in may 2021\n",
    "derived_price = {}"
   ]
  },
  {
   "cell_type": "code",
   "execution_count": 915,
   "metadata": {},
   "outputs": [],
   "source": [
    "# calc price of stock share by using formula A + -k(dA) where A is price today, and dA is price change from last yr\n",
    "def calcPrice(given_data):\n",
    "    for stock,data in given_data.items(): \n",
    "        price_now = data[0]\n",
    "        price_av2019 = data[1]\n",
    "        delta = price_now - price_av2019\n",
    "        k = -(price_now / price_av2019)\n",
    "        derived_price[stock] = round(price_now + k*delta,2)"
   ]
  },
  {
   "cell_type": "code",
   "execution_count": 916,
   "metadata": {},
   "outputs": [
    {
     "data": {
      "text/plain": [
       "{'APPL': 278.6, 'BAC': 27.99, 'KO': 51.17, 'AXP': 24.44, 'WFC': 36.3}"
      ]
     },
     "execution_count": 916,
     "metadata": {},
     "output_type": "execute_result"
    }
   ],
   "source": [
    "calcPrice(given_data)\n",
    "derived_price"
   ]
  },
  {
   "cell_type": "markdown",
   "metadata": {},
   "source": [
    "Awesome! it worked... we have an esitmate of price may 2021 for the individual stocks... to see them agian"
   ]
  },
  {
   "cell_type": "code",
   "execution_count": 917,
   "metadata": {},
   "outputs": [
    {
     "name": "stdout",
     "output_type": "stream",
     "text": [
      "{'APPL': 278.6, 'BAC': 27.99, 'KO': 51.17, 'AXP': 24.44, 'WFC': 36.3}\n"
     ]
    }
   ],
   "source": [
    "print(derived_price)"
   ]
  },
  {
   "cell_type": "code",
   "execution_count": 918,
   "metadata": {},
   "outputs": [],
   "source": [
    "# lets add what percentage of Berkshire Hathaway's revune is from each of the stocks' divendeds \n",
    "dividend_equity = {}"
   ]
  },
  {
   "cell_type": "code",
   "execution_count": 919,
   "metadata": {},
   "outputs": [
    {
     "name": "stdout",
     "output_type": "stream",
     "text": [
      "19.6\n"
     ]
    }
   ],
   "source": [
    "# APPL was 19.6% of Berkshire Hathaway's price. So...\n",
    "dividend_equity[\"APPL\"] = 19.6\n",
    "print(dividend_equity[\"APPL\"])"
   ]
  },
  {
   "cell_type": "code",
   "execution_count": 920,
   "metadata": {},
   "outputs": [
    {
     "name": "stdout",
     "output_type": "stream",
     "text": [
      "21.3\n"
     ]
    }
   ],
   "source": [
    "# Add remainng equities \n",
    "dividend_equity[\"BAC\"] = 14.5\n",
    "dividend_equity[\"KO\"] = 16.4\n",
    "dividend_equity[\"AXP\"] = 6.2\n",
    "dividend_equity[\"WFC\"] = 21.3\n",
    "print(dividend_equity[\"WFC\"])"
   ]
  },
  {
   "cell_type": "code",
   "execution_count": 921,
   "metadata": {},
   "outputs": [
    {
     "data": {
      "text/plain": [
       "78.0"
      ]
     },
     "execution_count": 921,
     "metadata": {},
     "output_type": "execute_result"
    }
   ],
   "source": [
    "# find sum of dividened stakes\n",
    "def calcTotalEquity(dividend_equity):\n",
    "    sum = 0\n",
    "    for percentage in dividend_equity.values():\n",
    "        sum += percentage\n",
    "    return sum\n",
    "calcTotalEquity(dividend_equity)"
   ]
  },
  {
   "cell_type": "code",
   "execution_count": 922,
   "metadata": {},
   "outputs": [
    {
     "data": {
      "text/plain": [
       "100.0"
      ]
     },
     "execution_count": 922,
     "metadata": {},
     "output_type": "execute_result"
    }
   ],
   "source": [
    "# add remaining stakes...did this if we wanted to add another Berkshire Hathaway stock later...code is modular + ready\n",
    "dividend_equity[\"OTHER_STAKES\"] = 100 - calcTotalEquity(dividend_equity)\n",
    "# total equity now should be 100\n",
    "calcTotalEquity(dividend_equity)"
   ]
  },
  {
   "cell_type": "code",
   "execution_count": 923,
   "metadata": {},
   "outputs": [
    {
     "name": "stdout",
     "output_type": "stream",
     "text": [
      "{'APPL': 278.6, 'BAC': 27.99, 'KO': 51.17, 'AXP': 24.44, 'WFC': 36.3, 'OTHER_STAKES': 203.63}\n"
     ]
    }
   ],
   "source": [
    "# # get other stakes percentage...78 percent make the above comapnies...we want to represent the remaining as its own stock\n",
    "# OTS_percent = dividend_equity[\"OTHER_STAKES\"] /100\n",
    "given_data[\"OTHER_STAKES\"] = (172.38, 210.55, -38.17)\n",
    "calcPrice(given_data)\n",
    "print(derived_price)"
   ]
  },
  {
   "cell_type": "code",
   "execution_count": 924,
   "metadata": {},
   "outputs": [
    {
     "name": "stdout",
     "output_type": "stream",
     "text": [
      "BRK-B price day vaccine found $ 172.38 \n",
      "BRK-B price in May 2021 $ 208.76\n"
     ]
    },
    {
     "data": {
      "text/plain": [
       "208.76"
      ]
     },
     "execution_count": 924,
     "metadata": {},
     "output_type": "execute_result"
    }
   ],
   "source": [
    "# calc berk-B new price in may 2021\n",
    "def calcUpdatedBRKPrice(derived_price, dividend_equity, brk_price):\n",
    "    newPrice = 0\n",
    "    for stock, price in derived_price.items():\n",
    "        newPrice += price*dividend_equity[stock]/100\n",
    "    updatedProportion = round(brk_price * newPrice /100, 2)\n",
    "    print(\"BRK-B price day vaccine found $\",brk_price, \"\\nBRK-B price in May 2021 $\", updatedProportion)\n",
    "    return updatedProportion\n",
    "\n",
    "brk_price = given_data[\"OTHER_STAKES\"][0]\n",
    "calcUpdatedBRKPrice(derived_price, dividend_equity, brk_price)"
   ]
  },
  {
   "cell_type": "markdown",
   "metadata": {},
   "source": [
    "# Refactor Model ⚒️\n",
    "- lets try to remodel our program if a vaccine was found 30 days from now instead of today\n",
    "- to do this...twe assume the stocks that were falling due to covid 19 will keep falling...vice versa\n",
    "- if BAC shares are down to 22.35 from 29.89 in 2019...they will keep decling till vaccine is found\n",
    "- the decline formula we will use is a = a + log(x)^2*(dA/30) \n",
    "- where x is the days from today a vaccine is found dA is a - av2019\n",
    "- By using LOG we can limit price drops over time...using power of two to emphasize log effect\n",
    "- 30 comes from num of days in a month"
   ]
  },
  {
   "cell_type": "code",
   "execution_count": 925,
   "metadata": {},
   "outputs": [],
   "source": [
    "import math \n",
    "# store updated stock prices if vaccine was found 30 days from today\n",
    "# pastData is of form Key:Value where key is the ticker and value is tuple (stockToday, stock2019, change)\n",
    "data_in_30days = {}\n",
    "def calcUpdatedData(pastData, newData, numOfDays):\n",
    "    for key, value in pastData.items():\n",
    "        oldPrice = value[0]\n",
    "        price_av2019 = value[1]\n",
    "        newPrice = updateSharePrice(oldPrice, oldPrice - price_av2019, numOfDays)\n",
    "        newData[key] = (newPrice, price_av2019)\n",
    "        \n",
    "def updateSharePrice(oldPrice, delta, days):\n",
    "#     error handle edge case LOG of zero DNE\n",
    "    if days == 0: \n",
    "        days = 2\n",
    "    return round(oldPrice + math.log(days)**2*delta/30,2)"
   ]
  },
  {
   "cell_type": "code",
   "execution_count": 926,
   "metadata": {},
   "outputs": [
    {
     "name": "stdout",
     "output_type": "stream",
     "text": [
      "{'APPL': (300.63, 280.1, 20.53), 'BAC': (22.35, 29.89, -7.54), 'KO': (44.75, 52.24, -7.79), 'AXP': (20.12, 25.62, -5.5), 'WFC': (25.61, 43.97, -18.36), 'OTHER_STAKES': (172.38, 210.55, -38.17)} {'APPL': (308.55, 280.1), 'BAC': (19.44, 29.89), 'KO': (41.86, 52.24), 'AXP': (18.0, 25.62), 'WFC': (18.53, 43.97), 'OTHER_STAKES': (157.66, 210.55)}\n"
     ]
    }
   ],
   "source": [
    "calcUpdatedData(given_data, data_in_30days, 30)\n",
    "print(given_data, data_in_30days)"
   ]
  },
  {
   "cell_type": "code",
   "execution_count": 947,
   "metadata": {},
   "outputs": [
    {
     "name": "stdout",
     "output_type": "stream",
     "text": [
      "\n",
      "heres the changes in prices if vaccine was found in 30 days...\n",
      "TICKER \"price today\" --> \"price day of discovery\"\n",
      "APPL  300.63 --> 308.55\n",
      "BAC  22.35 --> 19.44\n",
      "KO  44.75 --> 41.86\n",
      "AXP  20.12 --> 18.0\n",
      "WFC  25.61 --> 18.53\n",
      "OTHER_STAKES  172.38 --> 157.66\n"
     ]
    }
   ],
   "source": [
    "# a better way of visualizing the change in data\n",
    "def compareData(pastData, newData, numOfDays):\n",
    "    print(\"\\nheres the changes in prices if vaccine was found in \" + str(numOfDays) +\" days...\")\n",
    "    print(\"TICKER \\\"price today\\\" --> \\\"price day of discovery\\\"\")\n",
    "    for key, value in pastData.items():\n",
    "        print(key,\"\", value[0], \"-->\", newData[key][0])\n",
    "compareData(given_data, data_in_30days, 30)"
   ]
  },
  {
   "cell_type": "code",
   "execution_count": 928,
   "metadata": {},
   "outputs": [
    {
     "name": "stdout",
     "output_type": "stream",
     "text": [
      "{'APPL': [], 'BAC': [], 'KO': [], 'AXP': [], 'WFC': [], 'OTHER_STAKES': []}\n"
     ]
    }
   ],
   "source": [
    "# lets store the calcualted price in an another dict with values of arrays of prices based on what day vaccince was found\n",
    "data_in_Xdays = {}\n",
    "\n",
    "def initData_in_Xdays():\n",
    "    for key in given_data:\n",
    "        data_in_Xdays[key] = []\n",
    "    print(data_in_Xdays)\n",
    "    \n",
    "initData_in_Xdays()\n",
    "\n"
   ]
  },
  {
   "cell_type": "code",
   "execution_count": 929,
   "metadata": {},
   "outputs": [
    {
     "name": "stdout",
     "output_type": "stream",
     "text": [
      "{'APPL': [300.63], 'BAC': [22.35], 'KO': [44.75], 'AXP': [20.12], 'WFC': [25.61], 'OTHER_STAKES': [172.38]}\n",
      "{'APPL': [300.63, 308.55], 'BAC': [22.35, 19.44], 'KO': [44.75, 41.86], 'AXP': [20.12, 18.0], 'WFC': [25.61, 18.53], 'OTHER_STAKES': [172.38, 157.66]}\n"
     ]
    }
   ],
   "source": [
    "# store price of individual stocks on day X when a vaccine was found\n",
    "def storeDataInXDays(data_in_Xdays, given_data): \n",
    "    for key in given_data:\n",
    "        data_in_Xdays[key].append(given_data[key][0])\n",
    "        \n",
    "# storing data of individual stock prices if vaccine was found today \n",
    "storeDataInXDays(data_in_Xdays, given_data)\n",
    "print(data_in_Xdays)\n",
    "\n",
    "# storing data of individual stock prices if vaccine was found 30 days from today\n",
    "storeDataInXDays(data_in_Xdays, data_in_30days)\n",
    "print(data_in_Xdays)"
   ]
  },
  {
   "cell_type": "code",
   "execution_count": 930,
   "metadata": {},
   "outputs": [
    {
     "name": "stdout",
     "output_type": "stream",
     "text": [
      "if vaccine was found today...\n",
      "BRK-B price day vaccine found $ 172.38 \n",
      "BRK-B price in May 2021 $ 208.76\n"
     ]
    }
   ],
   "source": [
    "# lets calc our BRK price again if a vaccine was found today \n",
    "print(\"if vaccine was found today...\")\n",
    "brk_price = given_data[\"OTHER_STAKES\"][0]\n",
    "futurePrice = calcUpdatedBRKPrice(derived_price, dividend_equity, brk_price)\n",
    "\n",
    "brk_prices_if_vaccineXdays = []\n",
    "brk_prices_if_vaccineXdays.append((0,futurePrice))"
   ]
  },
  {
   "cell_type": "code",
   "execution_count": 931,
   "metadata": {},
   "outputs": [
    {
     "name": "stdout",
     "output_type": "stream",
     "text": [
      "if vaccine was found 30 days from today...\n",
      "BRK-B price day vaccine found $ 157.66 \n",
      "BRK-B price in May 2021 $ 185.16\n"
     ]
    }
   ],
   "source": [
    "# now clac updatedBRK Price if Vaccine found in 30 days\n",
    "print(\"if vaccine was found 30 days from today...\")\n",
    "calcPrice(data_in_30days)\n",
    "brk_price = data_in_30days[\"OTHER_STAKES\"][0]\n",
    "futurePrice = calcUpdatedBRKPrice(derived_price, dividend_equity, brk_price)\n",
    "\n",
    "# brk_prices_if_vaccineXdays = []\n",
    "brk_prices_if_vaccineXdays.append((30,futurePrice))"
   ]
  },
  {
   "cell_type": "markdown",
   "metadata": {},
   "source": [
    "## Results are positive! 🎉\n",
    "If vaccine was found later from today BRK shares would be a little lower than if it was found today...as data shows"
   ]
  },
  {
   "cell_type": "markdown",
   "metadata": {},
   "source": [
    "lets test our modular code and put it to the test by determining BRK price if vaccine was found in X days...we will call:\n",
    "\n",
    "- calcUpdatedData(pastData, newData, numOfDays)\n",
    "- compareData(pastData, newData, numOfDays)\n",
    "- storeDataInXDays(data_in_Xdays, newData)\n",
    "- calcUpdatedBRKPrice(derived_price, dividend_equity, brk_price)\n",
    "- brk_prices_if_vaccineXdays.append((0,futurePrice))\n",
    "\n",
    "**This is our update function**"
   ]
  },
  {
   "cell_type": "code",
   "execution_count": 932,
   "metadata": {},
   "outputs": [],
   "source": [
    "def vaccineFoundInXDays(numOfDays):\n",
    "    data_before_vaccine_found = {}\n",
    "    calcUpdatedData(given_data, data_before_vaccine_found , numOfDays)\n",
    "    compareData(given_data, data_before_vaccine_found , numOfDays)\n",
    "    storeDataInXDays(data_in_Xdays, data_before_vaccine_found )\n",
    "    \n",
    "    calcPrice(data_before_vaccine_found )\n",
    "    brk_price = data_before_vaccine_found[\"OTHER_STAKES\"][0]\n",
    "    \n",
    "    futurePrice = calcUpdatedBRKPrice(derived_price, dividend_equity, brk_price)\n",
    "    brk_prices_if_vaccineXdays.append((numOfDays,futurePrice))\n"
   ]
  },
  {
   "cell_type": "markdown",
   "metadata": {},
   "source": [
    "lets call our update function with if we found vaccine in 30 days and see if matches with the previous results...\n",
    "> if vaccine was found 30 days from today... \n",
    "\n",
    "> BRK-B price day vaccine found $ 169.24 \n",
    "\n",
    "> BRK-B price in May 2021 $ 203.8"
   ]
  },
  {
   "cell_type": "code",
   "execution_count": 933,
   "metadata": {},
   "outputs": [
    {
     "name": "stdout",
     "output_type": "stream",
     "text": [
      "\n",
      "heres the changes in prices if vaccine was found in 30 days...\n",
      "APPL  300.63 --> 308.55\n",
      "BAC  22.35 --> 19.44\n",
      "KO  44.75 --> 41.86\n",
      "AXP  20.12 --> 18.0\n",
      "WFC  25.61 --> 18.53\n",
      "OTHER_STAKES  172.38 --> 157.66\n",
      "BRK-B price day vaccine found $ 157.66 \n",
      "BRK-B price in May 2021 $ 185.16\n"
     ]
    }
   ],
   "source": [
    "vaccineFoundInXDays(30)"
   ]
  },
  {
   "cell_type": "markdown",
   "metadata": {},
   "source": [
    "## Results are positive! 🎉\n",
    "results from update function AKA vaccineFoundInXDays(numOFDays) match the results calculated prev\n"
   ]
  },
  {
   "cell_type": "markdown",
   "metadata": {},
   "source": [
    "Lets calculate BRK-B Prices for 60 days and 90 days...\n",
    "each should be getting smaller as the days a vaccine found increaeses"
   ]
  },
  {
   "cell_type": "code",
   "execution_count": 934,
   "metadata": {},
   "outputs": [
    {
     "name": "stdout",
     "output_type": "stream",
     "text": [
      "\n",
      "heres the changes in prices if vaccine was found in 60 days...\n",
      "APPL  300.63 --> 312.1\n",
      "BAC  22.35 --> 18.14\n",
      "KO  44.75 --> 40.56\n",
      "AXP  20.12 --> 17.05\n",
      "WFC  25.61 --> 15.35\n",
      "OTHER_STAKES  172.38 --> 151.05\n",
      "BRK-B price day vaccine found $ 151.05 \n",
      "BRK-B price in May 2021 $ 174.34\n"
     ]
    }
   ],
   "source": [
    "vaccineFoundInXDays(60)"
   ]
  },
  {
   "cell_type": "code",
   "execution_count": 935,
   "metadata": {},
   "outputs": [
    {
     "name": "stdout",
     "output_type": "stream",
     "text": [
      "\n",
      "heres the changes in prices if vaccine was found in 90 days...\n",
      "APPL  300.63 --> 314.49\n",
      "BAC  22.35 --> 17.26\n",
      "KO  44.75 --> 39.69\n",
      "AXP  20.12 --> 16.41\n",
      "WFC  25.61 --> 13.22\n",
      "OTHER_STAKES  172.38 --> 146.62\n",
      "BRK-B price day vaccine found $ 146.62 \n",
      "BRK-B price in May 2021 $ 167.04\n"
     ]
    }
   ],
   "source": [
    "vaccineFoundInXDays(90)"
   ]
  },
  {
   "cell_type": "markdown",
   "metadata": {},
   "source": [
    "## Bringing it all in...\n",
    "we have been informally storing two sets of data\n",
    "\n",
    "-  **data_in_Xdays** which stores stock prices of individual stocks before vaccine is found\n",
    "- **brk_prices_if_vaccineXdays** which stores prices of BRK stock in may 2021 if vaccine found on day X"
   ]
  },
  {
   "cell_type": "markdown",
   "metadata": {},
   "source": [
    "we would like to plot our stored results by running a sweep series"
   ]
  },
  {
   "cell_type": "code",
   "execution_count": 936,
   "metadata": {},
   "outputs": [
    {
     "data": {
      "image/png": "[encoded data removed]",
      "text/plain": [
       "<Figure size 720x360 with 1 Axes>"
      ]
     },
     "metadata": {
      "needs_background": "light"
     },
     "output_type": "display_data"
    }
   ],
   "source": [
    "from modsim import *\n",
    "def plotIndividualStock(data_in_Xdays, brk_prices_if_vaccineXdays, stock):\n",
    "    sweep = SweepSeries()\n",
    "    for i, data in enumerate(brk_prices_if_vaccineXdays):\n",
    "        daysTillVaccineFound = data[0]\n",
    "        stockPriceTillVaccineFound = data[1]\n",
    "        sweep[daysTillVaccineFound] = data_in_Xdays[stock][i]\n",
    "    return sweep\n",
    "\n",
    "stock = 'BAC'\n",
    "plot(plotIndividualStock(data_in_Xdays, brk_prices_if_vaccineXdays, stock), \n",
    "     label= stock +' Price')\n",
    "\n",
    "decorate(title= stock +' Price on day the vaccine is found',\n",
    "         ylabel='Price of ' + stock +  ' Stock', \n",
    "         xlabel='Number of days till vaccine is found')\n",
    "    \n"
   ]
  },
  {
   "cell_type": "code",
   "execution_count": 937,
   "metadata": {},
   "outputs": [
    {
     "data": {
      "image/png": "[encoded data removed]",
      "text/plain": [
       "<Figure size 1080x720 with 2 Axes>"
      ]
     },
     "metadata": {
      "needs_background": "light"
     },
     "output_type": "display_data"
    }
   ],
   "source": [
    "import matplotlib.pyplot as plt\n",
    "def plotAllStocks(data_in_Xdays, brk_prices_if_vaccineXdays):\n",
    "    num = 0\n",
    "    fig, ax = plt.subplots(1,2,figsize=(15,10))\n",
    "    for key in data_in_Xdays:\n",
    "        sweep = plotIndividualStock(data_in_Xdays, brk_prices_if_vaccineXdays, key)\n",
    "        label =  key\n",
    "        if data_in_Xdays[key][0] > 30:\n",
    "            ax[0].plot(sweep, label=label)\n",
    "            ax[0].legend(loc=\"best\")\n",
    "    \n",
    "        else:\n",
    "            ax[1].plot(sweep, label=label)\n",
    "            ax[1].legend(loc=\"upper right\")\n",
    "    \n",
    "    for ax in ax.flat:\n",
    "        ax.set(title= 'Individ. Stock Price on day the vaccine is found', \n",
    "               xlabel='Number of days till vaccine is found', \n",
    "               ylabel='Price of Stock')\n",
    "        \n",
    "        \n",
    "        \n",
    "plotAllStocks(data_in_Xdays, brk_prices_if_vaccineXdays)"
   ]
  },
  {
   "cell_type": "code",
   "execution_count": 938,
   "metadata": {},
   "outputs": [
    {
     "name": "stdout",
     "output_type": "stream",
     "text": [
      "0 208.76\n",
      "30 185.16\n",
      "30 185.16\n",
      "60 174.34\n",
      "90 167.04\n"
     ]
    },
    {
     "data": {
      "image/png": "[encoded data removed]",
      "text/plain": [
       "<Figure size 720x360 with 1 Axes>"
      ]
     },
     "metadata": {
      "needs_background": "light"
     },
     "output_type": "display_data"
    }
   ],
   "source": [
    "# \n",
    "def plotBRK(brk_prices_if_vaccineXdays):\n",
    "    sweep = SweepSeries()\n",
    "    for data in brk_prices_if_vaccineXdays:\n",
    "        daysTillVaccineFound = data[0]\n",
    "        brkPriceMay2021 = data[1]\n",
    "        print(daysTillVaccineFound, brkPriceMay2021)\n",
    "        sweep[daysTillVaccineFound] = brkPriceMay2021\n",
    "        \n",
    "    plot(sweep, label='BRK-B Price')\n",
    "\n",
    "    decorate(title='BRK-B Price in May 2021',\n",
    "             ylabel='Price of BRK-B Stock', \n",
    "             xlabel='Number of days till vaccine is found')\n",
    "    \n",
    "plotBRK(brk_prices_if_vaccineXdays)  "
   ]
  },
  {
   "cell_type": "markdown",
   "metadata": {},
   "source": [
    "## One Final Sweep...\n",
    "Lets see how stock prices are effected by sweeping thru each month till May 2021"
   ]
  },
  {
   "cell_type": "code",
   "execution_count": 939,
   "metadata": {},
   "outputs": [
    {
     "name": "stdout",
     "output_type": "stream",
     "text": [
      "{'APPL': [], 'BAC': [], 'KO': [], 'AXP': [], 'WFC': [], 'OTHER_STAKES': []}\n"
     ]
    }
   ],
   "source": [
    "# lets reset our prexisting data store vars\n",
    "data_in_Xdays = {}\n",
    "initData_in_Xdays()\n",
    "brk_prices_if_vaccineXdays = []"
   ]
  },
  {
   "cell_type": "code",
   "execution_count": 940,
   "metadata": {},
   "outputs": [
    {
     "name": "stdout",
     "output_type": "stream",
     "text": [
      "['May', 'Jun', 'Jul', 'Aug', 'Sep', 'Oct', 'Nov', 'Dec', 'Jan', 'Feb', 'Mar', 'Apr']\n"
     ]
    }
   ],
   "source": [
    "# get months range today (may 2020) to 12 months from now (april 2021)\n",
    "from datetime import datetime, timedelta\n",
    "from dateutil.relativedelta import relativedelta\n",
    "\n",
    "def get_forward_month_list():\n",
    "    now = datetime.now()\n",
    "    return [(now + relativedelta(months=i)).strftime('%b') for i in range(12)]\n",
    "month_vaccine_found = get_forward_month_list()\n",
    "print(months)"
   ]
  },
  {
   "cell_type": "code",
   "execution_count": 941,
   "metadata": {},
   "outputs": [
    {
     "name": "stdout",
     "output_type": "stream",
     "text": [
      "[  0.  30.  60.  90. 120. 150. 180. 210. 240. 270. 300. 330. 360.]\n"
     ]
    }
   ],
   "source": [
    "# lets create our num of days till vaccine found array \n",
    "days_till_vaccine_found = linspace(0, 360, len(month_vaccine_found) + 1)\n",
    "print(days_till_vaccine_found)"
   ]
  },
  {
   "cell_type": "code",
   "execution_count": 942,
   "metadata": {},
   "outputs": [
    {
     "name": "stdout",
     "output_type": "stream",
     "text": [
      "\n",
      "heres the changes in prices if vaccine was found in 0.0 days...\n",
      "APPL  300.63 --> 300.96\n",
      "BAC  22.35 --> 22.23\n",
      "KO  44.75 --> 44.63\n",
      "AXP  20.12 --> 20.03\n",
      "WFC  25.61 --> 25.32\n",
      "OTHER_STAKES  172.38 --> 171.77\n",
      "BRK-B price day vaccine found $ 171.77 \n",
      "BRK-B price in May 2021 $ 207.8\n",
      "\n",
      "heres the changes in prices if vaccine was found in 30.0 days...\n",
      "APPL  300.63 --> 308.55\n",
      "BAC  22.35 --> 19.44\n",
      "KO  44.75 --> 41.86\n",
      "AXP  20.12 --> 18.0\n",
      "WFC  25.61 --> 18.53\n",
      "OTHER_STAKES  172.38 --> 157.66\n",
      "BRK-B price day vaccine found $ 157.66 \n",
      "BRK-B price in May 2021 $ 185.16\n",
      "\n",
      "heres the changes in prices if vaccine was found in 60.0 days...\n",
      "APPL  300.63 --> 312.1\n",
      "BAC  22.35 --> 18.14\n",
      "KO  44.75 --> 40.56\n",
      "AXP  20.12 --> 17.05\n",
      "WFC  25.61 --> 15.35\n",
      "OTHER_STAKES  172.38 --> 151.05\n",
      "BRK-B price day vaccine found $ 151.05 \n",
      "BRK-B price in May 2021 $ 174.34\n",
      "\n",
      "heres the changes in prices if vaccine was found in 90.0 days...\n",
      "APPL  300.63 --> 314.49\n",
      "BAC  22.35 --> 17.26\n",
      "KO  44.75 --> 39.69\n",
      "AXP  20.12 --> 16.41\n",
      "WFC  25.61 --> 13.22\n",
      "OTHER_STAKES  172.38 --> 146.62\n",
      "BRK-B price day vaccine found $ 146.62 \n",
      "BRK-B price in May 2021 $ 167.04\n",
      "\n",
      "heres the changes in prices if vaccine was found in 120.0 days...\n",
      "APPL  300.63 --> 316.31\n",
      "BAC  22.35 --> 16.59\n",
      "KO  44.75 --> 39.03\n",
      "AXP  20.12 --> 15.92\n",
      "WFC  25.61 --> 11.58\n",
      "OTHER_STAKES  172.38 --> 143.22\n",
      "BRK-B price day vaccine found $ 143.22 \n",
      "BRK-B price in May 2021 $ 161.42\n",
      "\n",
      "heres the changes in prices if vaccine was found in 150.0 days...\n",
      "APPL  300.63 --> 317.81\n",
      "BAC  22.35 --> 16.04\n",
      "KO  44.75 --> 38.48\n",
      "AXP  20.12 --> 15.52\n",
      "WFC  25.61 --> 10.24\n",
      "OTHER_STAKES  172.38 --> 140.44\n",
      "BRK-B price day vaccine found $ 140.44 \n",
      "BRK-B price in May 2021 $ 156.82\n",
      "\n",
      "heres the changes in prices if vaccine was found in 180.0 days...\n",
      "APPL  300.63 --> 319.08\n",
      "BAC  22.35 --> 15.57\n",
      "KO  44.75 --> 38.02\n",
      "AXP  20.12 --> 15.18\n",
      "WFC  25.61 --> 9.11\n",
      "OTHER_STAKES  172.38 --> 138.07\n",
      "BRK-B price day vaccine found $ 138.07 \n",
      "BRK-B price in May 2021 $ 152.9\n",
      "\n",
      "heres the changes in prices if vaccine was found in 210.0 days...\n",
      "APPL  300.63 --> 320.2\n",
      "BAC  22.35 --> 15.16\n",
      "KO  44.75 --> 37.61\n",
      "AXP  20.12 --> 14.88\n",
      "WFC  25.61 --> 8.11\n",
      "OTHER_STAKES  172.38 --> 136.0\n",
      "BRK-B price day vaccine found $ 136.0 \n",
      "BRK-B price in May 2021 $ 149.48\n",
      "\n",
      "heres the changes in prices if vaccine was found in 240.0 days...\n",
      "APPL  300.63 --> 321.19\n",
      "BAC  22.35 --> 14.8\n",
      "KO  44.75 --> 37.25\n",
      "AXP  20.12 --> 14.61\n",
      "WFC  25.61 --> 7.23\n",
      "OTHER_STAKES  172.38 --> 134.16\n",
      "BRK-B price day vaccine found $ 134.16 \n",
      "BRK-B price in May 2021 $ 146.44\n",
      "\n",
      "heres the changes in prices if vaccine was found in 270.0 days...\n",
      "APPL  300.63 --> 322.08\n",
      "BAC  22.35 --> 14.47\n",
      "KO  44.75 --> 36.92\n",
      "AXP  20.12 --> 14.37\n",
      "WFC  25.61 --> 6.43\n",
      "OTHER_STAKES  172.38 --> 132.5\n",
      "BRK-B price day vaccine found $ 132.5 \n",
      "BRK-B price in May 2021 $ 143.7\n",
      "\n",
      "heres the changes in prices if vaccine was found in 300.0 days...\n",
      "APPL  300.63 --> 322.89\n",
      "BAC  22.35 --> 14.17\n",
      "KO  44.75 --> 36.63\n",
      "AXP  20.12 --> 14.16\n",
      "WFC  25.61 --> 5.7\n",
      "OTHER_STAKES  172.38 --> 130.99\n",
      "BRK-B price day vaccine found $ 130.99 \n",
      "BRK-B price in May 2021 $ 141.21\n",
      "\n",
      "heres the changes in prices if vaccine was found in 330.0 days...\n",
      "APPL  300.63 --> 323.64\n",
      "BAC  22.35 --> 13.9\n",
      "KO  44.75 --> 36.35\n",
      "AXP  20.12 --> 13.95\n",
      "WFC  25.61 --> 5.03\n",
      "OTHER_STAKES  172.38 --> 129.59\n",
      "BRK-B price day vaccine found $ 129.59 \n",
      "BRK-B price in May 2021 $ 138.91\n"
     ]
    }
   ],
   "source": [
    "# call our update function for each of the 12 months starting today\n",
    "def didDiscoverVaccine():\n",
    "    for month in days_till_vaccine_found:\n",
    "        if month == 360: break\n",
    "        vaccineFoundInXDays(month)\n",
    "didDiscoverVaccine()"
   ]
  },
  {
   "cell_type": "markdown",
   "metadata": {},
   "source": []
  }
 ],
 "metadata": {
  "kernelspec": {
   "display_name": "Python 3",
   "language": "python",
   "name": "python3"
  },
  "language_info": {
   "codemirror_mode": {
    "name": "ipython",
    "version": 3
   },
   "file_extension": ".py",
   "mimetype": "text/x-python",
   "name": "python",
   "nbconvert_exporter": "python",
   "pygments_lexer": "ipython3",
   "version": "3.7.4"
  }
 },
 "nbformat": 4,
 "nbformat_minor": 2
}

{
 "cells": [
  {
   "cell_type": "code",
   "execution_count": 5,
   "metadata": {},
   "outputs": [],
   "source": [
    "# we want to calculate Berkshire Hathaway Class B(BRK-B) stock's value one year from today "
   ]
  },
  {
   "cell_type": "code",
   "execution_count": 6,
   "metadata": {},
   "outputs": [],
   "source": [
    "# given_data is a dictionary of stock to a tuple of information\n",
    "given_data = {}"
   ]
  },
  {
   "cell_type": "code",
   "execution_count": 7,
   "metadata": {},
   "outputs": [
    {
     "name": "stdout",
     "output_type": "stream",
     "text": [
      "300.63\n"
     ]
    }
   ],
   "source": [
    "# apple share may 2020 = $300.63, av share price 2019 was = $ 280.10, and delta is $20.53\n",
    "given_data[\"APPL\"] = (300.63, 280.10, 20.53)\n",
    "print(given_data[\"APPL\"][0])"
   ]
  },
  {
   "cell_type": "code",
   "execution_count": 8,
   "metadata": {},
   "outputs": [
    {
     "name": "stdout",
     "output_type": "stream",
     "text": [
      "20.12\n"
     ]
    }
   ],
   "source": [
    "# add rest of derived data\n",
    "given_data[\"BAC\"] = (22.35, 29.89, -7.54)\n",
    "given_data[\"KO\"] = (44.75, 52.24, -7.79)\n",
    "given_data[\"AXP\"] = (20.12, 25.62, -5.50)\n",
    "given_data[\"WFC\"] = (25.61, 43.97, -18.36)\n",
    "print(given_data[\"AXP\"][0])"
   ]
  },
  {
   "cell_type": "code",
   "execution_count": 9,
   "metadata": {},
   "outputs": [],
   "source": [
    "# derived_price will store share prices of stocks if vaccine was found today \n",
    "derived_price = {}"
   ]
  },
  {
   "cell_type": "code",
   "execution_count": 10,
   "metadata": {},
   "outputs": [],
   "source": [
    "# calc price of stock share by using formula A + -k(dA) where A is price today, and dA is price change from last yr\n",
    "def calcPrice(given_data):\n",
    "    for stock,data in given_data.items(): \n",
    "        price_now = data[0]\n",
    "        price_av2019 = data[1]\n",
    "        delta = price_now - price_av2019\n",
    "        k = -(price_now / price_av2019)\n",
    "        derived_price[stock] = round(price_now + k*delta,2)"
   ]
  },
  {
   "cell_type": "code",
   "execution_count": 11,
   "metadata": {},
   "outputs": [
    {
     "data": {
      "text/plain": [
       "27.99"
      ]
     },
     "execution_count": 11,
     "metadata": {},
     "output_type": "execute_result"
    }
   ],
   "source": [
    "calcPrice(given_data)\n",
    "derived_price[\"BAC\"]"
   ]
  },
  {
   "cell_type": "code",
   "execution_count": 12,
   "metadata": {},
   "outputs": [
    {
     "name": "stdout",
     "output_type": "stream",
     "text": [
      "{'APPL': 278.6, 'BAC': 27.99, 'KO': 51.17, 'AXP': 24.44, 'WFC': 36.3}\n"
     ]
    }
   ],
   "source": [
    "# Awesome! it worked... we have an esitmate of price may 2021 for the holdings... to see them agian\n",
    "print(derived_price)"
   ]
  },
  {
   "cell_type": "code",
   "execution_count": 13,
   "metadata": {},
   "outputs": [],
   "source": [
    "# lets add what percentage of Berkshire Hathaway's revune is from each of the stocks' divendeds \n",
    "dividend_equity = {}"
   ]
  },
  {
   "cell_type": "code",
   "execution_count": 14,
   "metadata": {},
   "outputs": [
    {
     "name": "stdout",
     "output_type": "stream",
     "text": [
      "19.6\n"
     ]
    }
   ],
   "source": [
    "# APPL was 19.6% of Berkshire Hathaway's price. So...\n",
    "dividend_equity[\"APPL\"] = 19.6\n",
    "print(dividend_equity[\"APPL\"])"
   ]
  },
  {
   "cell_type": "code",
   "execution_count": 15,
   "metadata": {},
   "outputs": [
    {
     "name": "stdout",
     "output_type": "stream",
     "text": [
      "21.3\n"
     ]
    }
   ],
   "source": [
    "# Add remainng equities \n",
    "dividend_equity[\"BAC\"] = 14.5\n",
    "dividend_equity[\"KO\"] = 16.4\n",
    "dividend_equity[\"AXP\"] = 6.2\n",
    "dividend_equity[\"WFC\"] = 21.3\n",
    "print(dividend_equity[\"WFC\"])"
   ]
  },
  {
   "cell_type": "code",
   "execution_count": 16,
   "metadata": {},
   "outputs": [
    {
     "data": {
      "text/plain": [
       "78.0"
      ]
     },
     "execution_count": 16,
     "metadata": {},
     "output_type": "execute_result"
    }
   ],
   "source": [
    "# find sum of dividened stakes\n",
    "def calcTotalEquity(dividend_equity):\n",
    "    sum = 0\n",
    "    for percentage in dividend_equity.values():\n",
    "        sum += percentage\n",
    "    return sum\n",
    "calcTotalEquity(dividend_equity)"
   ]
  },
  {
   "cell_type": "code",
   "execution_count": 17,
   "metadata": {},
   "outputs": [
    {
     "data": {
      "text/plain": [
       "100.0"
      ]
     },
     "execution_count": 17,
     "metadata": {},
     "output_type": "execute_result"
    }
   ],
   "source": [
    "# add remaining stakes...did this if we wanted to add another Berkshire Hathaway stock later...code is modular + ready\n",
    "dividend_equity[\"OTHER_STAKES\"] = 100 - calcTotalEquity(dividend_equity)\n",
    "# total equity now should be 100\n",
    "calcTotalEquity(dividend_equity)"
   ]
  },
  {
   "cell_type": "code",
   "execution_count": 18,
   "metadata": {},
   "outputs": [
    {
     "name": "stdout",
     "output_type": "stream",
     "text": [
      "{'APPL': 278.6, 'BAC': 27.99, 'KO': 51.17, 'AXP': 24.44, 'WFC': 36.3, 'OTHER_STAKES': 203.63}\n"
     ]
    }
   ],
   "source": [
    "# # get other stakes percentage...78 percent make the above comapnies...we want to represent the remaining as its own stock\n",
    "# OTS_percent = dividend_equity[\"OTHER_STAKES\"] /100\n",
    "given_data[\"OTHER_STAKES\"] = (172.38, 210.55, -38.17)\n",
    "calcPrice(given_data)\n",
    "print(derived_price)"
   ]
  },
  {
   "cell_type": "code",
   "execution_count": 19,
   "metadata": {},
   "outputs": [
    {
     "name": "stdout",
     "output_type": "stream",
     "text": [
      "278.6 0.196 54.6056\n",
      "27.99 0.145 58.66415\n",
      "51.17 0.16399999999999998 67.05602999999999\n",
      "24.44 0.062 68.57131\n",
      "36.3 0.213 76.30320999999999\n",
      "203.63 0.22 121.10180999999999\n"
     ]
    },
    {
     "data": {
      "text/plain": [
       "208.76"
      ]
     },
     "execution_count": 19,
     "metadata": {},
     "output_type": "execute_result"
    }
   ],
   "source": [
    "# calc berk-B new price in may 2021\n",
    "def calcUpdatedPrice(derived_price, dividend_equity):\n",
    "    newPrice = 0\n",
    "    for stock, price in derived_price.items():\n",
    "        newPrice += price*dividend_equity[stock]/100\n",
    "        print(price, dividend_equity[stock]/100, newPrice)\n",
    "    newPrice = 172.38 * newPrice /100\n",
    "    return round(newPrice, 2)\n",
    "calcUpdatedPrice(derived_price, dividend_equity)"
   ]
  },
  {
   "cell_type": "code",
   "execution_count": 20,
   "metadata": {},
   "outputs": [],
   "source": [
    "# lets try to remodel our program if a vaccine was found 30 days from now instead of today\n",
    "# to do this...twe assume the stocks that were falling due to covid 19 will keep falling...vice versa\n",
    "# if BAC shares are down to 22.35 from 29.89 in 2019...they will keep decling till vaccine is found\n",
    "# the decline formula we will use is a = a + x*(dA/365) \n",
    "# where x is the days from today a vaccine is found dA is a - av2019\n",
    "# dBAC = -7.54 so if vccine was found 30 days from today we predict BAC will be = 22.35 + 30(-7.54/365) = 21.73\n",
    "# for stocks with dA < -7.54 like -30 will drop faster than BA"
   ]
  },
  {
   "cell_type": "code",
   "execution_count": 30,
   "metadata": {},
   "outputs": [],
   "source": [
    "# store updated stock prices if vaccine was found 30 days from today\n",
    "# pastData is of form Key:Value where key is the ticker and value is tuple (stockToday, stock2019, change)\n",
    "data_in_30days = {}\n",
    "def calcUpdatedData(pastData, newData, numOfDays):\n",
    "    for key, value in pastData.items():\n",
    "        oldPrice = value[0]\n",
    "        price_av2019 = value[1]\n",
    "        newPrice = updateSharePrice(oldPrice, oldPrice - price_av2019, numOfDays)\n",
    "        newData[key] = (newPrice, price_av2019)\n",
    "        \n",
    "def updateSharePrice(oldPrice, delta, days):\n",
    "    return round(oldPrice + days*delta/365,2)"
   ]
  },
  {
   "cell_type": "code",
   "execution_count": 31,
   "metadata": {},
   "outputs": [
    {
     "name": "stdout",
     "output_type": "stream",
     "text": [
      "{'APPL': (300.63, 280.1, 20.53), 'BAC': (22.35, 29.89, -7.54), 'KO': (44.75, 52.24, -7.79), 'AXP': (20.12, 25.62, -5.5), 'WFC': (25.61, 43.97, -18.36), 'OTHER_STAKES': (172.38, 210.55, -38.17)} {'APPL': (302.32, 280.1), 'BAC': (21.73, 29.89), 'KO': (44.13, 52.24), 'AXP': (19.67, 25.62), 'WFC': (24.1, 43.97), 'OTHER_STAKES': (169.24, 210.55)}\n"
     ]
    }
   ],
   "source": [
    "calcUpdatedData(given_data, data_in_30days, 30)\n",
    "print(given_data, data_in_30days)"
   ]
  },
  {
   "cell_type": "code",
   "execution_count": 32,
   "metadata": {},
   "outputs": [
    {
     "name": "stdout",
     "output_type": "stream",
     "text": [
      "heres the changes in prices if vaccine was found in30\n",
      "\n",
      "\n",
      "oldPrice: 300.63  --> newPrice:  302.32\n",
      "oldPrice: 22.35  --> newPrice:  21.73\n",
      "oldPrice: 44.75  --> newPrice:  44.13\n",
      "oldPrice: 20.12  --> newPrice:  19.67\n",
      "oldPrice: 25.61  --> newPrice:  24.1\n",
      "oldPrice: 172.38  --> newPrice:  169.24\n"
     ]
    }
   ],
   "source": [
    "# a better way of visualizing the change in data\n",
    "def compareData(pastData, newData, numOfDays):\n",
    "    print(\"heres the changes in prices if vaccine was found in\" + str(numOfDays) +\"days\\n\")\n",
    "    for key, value in pastData.items():\n",
    "        print(\"oldPrice:\", value[0], \" --> newPrice: \", newData[key][0])\n",
    "compareData(given_data, data_in_30days, 30)"
   ]
  }
 ],
 "metadata": {
  "kernelspec": {
   "display_name": "Python 3",
   "language": "python",
   "name": "python3"
  },
  "language_info": {
   "codemirror_mode": {
    "name": "ipython",
    "version": 3
   },
   "file_extension": ".py",
   "mimetype": "text/x-python",
   "name": "python",
   "nbconvert_exporter": "python",
   "pygments_lexer": "ipython3",
   "version": "3.7.4"
  }
 },
 "nbformat": 4,
 "nbformat_minor": 2
}

{
 "cells": [
  {
   "cell_type": "code",
   "execution_count": 183,
   "metadata": {},
   "outputs": [],
   "source": [
    "# we want to calculate Berkshire Hathaway Class B(BRK-B) stock's value one year from today "
   ]
  },
  {
   "cell_type": "code",
   "execution_count": 184,
   "metadata": {},
   "outputs": [],
   "source": [
    "# given_data is a dictionary of stock to a tuple of information\n",
    "given_data = {}"
   ]
  },
  {
   "cell_type": "code",
   "execution_count": 185,
   "metadata": {},
   "outputs": [
    {
     "name": "stdout",
     "output_type": "stream",
     "text": [
      "300.63\n"
     ]
    }
   ],
   "source": [
    "# apple share may 2020 = $300.63, av share price 2019 was = $ 280.10, and delta is $20.53\n",
    "given_data[\"APPL\"] = (300.63, 280.10, 20.53)\n",
    "print(given_data[\"APPL\"][0])"
   ]
  },
  {
   "cell_type": "code",
   "execution_count": 186,
   "metadata": {},
   "outputs": [
    {
     "name": "stdout",
     "output_type": "stream",
     "text": [
      "20.12\n"
     ]
    }
   ],
   "source": [
    "# add rest of derived data\n",
    "given_data[\"BAC\"] = (22.35, 29.89, -7.54)\n",
    "given_data[\"KO\"] = (44.75, 52.24, -7.79)\n",
    "given_data[\"AXP\"] = (20.12, 25.62, -5.50)\n",
    "given_data[\"WFC\"] = (25.61, 43.97, -18.36)\n",
    "print(given_data[\"AXP\"][0])"
   ]
  },
  {
   "cell_type": "code",
   "execution_count": 187,
   "metadata": {},
   "outputs": [],
   "source": [
    "# derived_price will store share prices of stocks if vaccine was found today \n",
    "derived_price = {}"
   ]
  },
  {
   "cell_type": "code",
   "execution_count": 188,
   "metadata": {},
   "outputs": [],
   "source": [
    "# calc price of stock share by using formula A + -k(dA) where A is price today, and dA is price change from last yr\n",
    "def calcPrice(given_data):\n",
    "    for stock,data in given_data.items(): \n",
    "        price_now = data[0]\n",
    "        price_av2019 = data[1]\n",
    "        delta = price_now - price_av2019\n",
    "        k = -(price_now / price_av2019)\n",
    "        derived_price[stock] = round(price_now + k*delta,2)"
   ]
  },
  {
   "cell_type": "code",
   "execution_count": 189,
   "metadata": {},
   "outputs": [
    {
     "data": {
      "text/plain": [
       "27.99"
      ]
     },
     "execution_count": 189,
     "metadata": {},
     "output_type": "execute_result"
    }
   ],
   "source": [
    "calcPrice(given_data)\n",
    "derived_price[\"BAC\"]"
   ]
  },
  {
   "cell_type": "code",
   "execution_count": 190,
   "metadata": {},
   "outputs": [
    {
     "name": "stdout",
     "output_type": "stream",
     "text": [
      "{'APPL': 278.6, 'BAC': 27.99, 'KO': 51.17, 'AXP': 24.44, 'WFC': 36.3}\n"
     ]
    }
   ],
   "source": [
    "# Awesome! it worked... we have an esitmate of price may 2021 for the holdings... to see them agian\n",
    "print(derived_price)"
   ]
  },
  {
   "cell_type": "code",
   "execution_count": 191,
   "metadata": {},
   "outputs": [],
   "source": [
    "# lets add what percentage of Berkshire Hathaway's revune is from each of the stocks' divendeds \n",
    "dividend_equity = {}"
   ]
  },
  {
   "cell_type": "code",
   "execution_count": 192,
   "metadata": {},
   "outputs": [
    {
     "name": "stdout",
     "output_type": "stream",
     "text": [
      "19.6\n"
     ]
    }
   ],
   "source": [
    "# APPL was 19.6% of Berkshire Hathaway's price. So...\n",
    "dividend_equity[\"APPL\"] = 19.6\n",
    "print(dividend_equity[\"APPL\"])"
   ]
  },
  {
   "cell_type": "code",
   "execution_count": 193,
   "metadata": {},
   "outputs": [
    {
     "name": "stdout",
     "output_type": "stream",
     "text": [
      "21.3\n"
     ]
    }
   ],
   "source": [
    "# Add remainng equities \n",
    "dividend_equity[\"BAC\"] = 14.5\n",
    "dividend_equity[\"KO\"] = 16.4\n",
    "dividend_equity[\"AXP\"] = 6.2\n",
    "dividend_equity[\"WFC\"] = 21.3\n",
    "print(dividend_equity[\"WFC\"])"
   ]
  },
  {
   "cell_type": "code",
   "execution_count": 194,
   "metadata": {},
   "outputs": [
    {
     "data": {
      "text/plain": [
       "78.0"
      ]
     },
     "execution_count": 194,
     "metadata": {},
     "output_type": "execute_result"
    }
   ],
   "source": [
    "# find sum of dividened stakes\n",
    "def calcTotalEquity(dividend_equity):\n",
    "    sum = 0\n",
    "    for percentage in dividend_equity.values():\n",
    "        sum += percentage\n",
    "    return sum\n",
    "calcTotalEquity(dividend_equity)"
   ]
  },
  {
   "cell_type": "code",
   "execution_count": 195,
   "metadata": {},
   "outputs": [
    {
     "data": {
      "text/plain": [
       "100.0"
      ]
     },
     "execution_count": 195,
     "metadata": {},
     "output_type": "execute_result"
    }
   ],
   "source": [
    "# add remaining stakes...did this if we wanted to add another Berkshire Hathaway stock later...code is modular + ready\n",
    "dividend_equity[\"OTHER_STAKES\"] = 100 - calcTotalEquity(dividend_equity)\n",
    "# total equity now should be 100\n",
    "calcTotalEquity(dividend_equity)"
   ]
  },
  {
   "cell_type": "code",
   "execution_count": 196,
   "metadata": {},
   "outputs": [
    {
     "name": "stdout",
     "output_type": "stream",
     "text": [
      "{'APPL': 278.6, 'BAC': 27.99, 'KO': 51.17, 'AXP': 24.44, 'WFC': 36.3, 'OTHER_STAKES': 203.63}\n"
     ]
    }
   ],
   "source": [
    "# # get other stakes percentage...78 percent make the above comapnies...we want to represent the remaining as its own stock\n",
    "# OTS_percent = dividend_equity[\"OTHER_STAKES\"] /100\n",
    "given_data[\"OTHER_STAKES\"] = (172.38, 210.55, -38.17)\n",
    "calcPrice(given_data)\n",
    "print(derived_price)"
   ]
  },
  {
   "cell_type": "code",
   "execution_count": 197,
   "metadata": {},
   "outputs": [
    {
     "name": "stdout",
     "output_type": "stream",
     "text": [
      "278.6 0.196 54.6056\n",
      "27.99 0.145 58.66415\n",
      "51.17 0.16399999999999998 67.05602999999999\n",
      "24.44 0.062 68.57131\n",
      "36.3 0.213 76.30320999999999\n",
      "203.63 0.22 121.10180999999999\n"
     ]
    },
    {
     "data": {
      "text/plain": [
       "208.76"
      ]
     },
     "execution_count": 197,
     "metadata": {},
     "output_type": "execute_result"
    }
   ],
   "source": [
    "# calc berk-B new price in may 2021\n",
    "def calcUpdatedPrice(derived_price, dividend_equity):\n",
    "    newPrice = 0\n",
    "    for stock, price in derived_price.items():\n",
    "        newPrice += price*dividend_equity[stock]/100\n",
    "        print(price, dividend_equity[stock]/100, newPrice)\n",
    "    newPrice = 172.38 * newPrice /100\n",
    "    return round(newPrice, 2)\n",
    "calcUpdatedPrice(derived_price, dividend_equity)"
   ]
  },
  {
   "cell_type": "code",
   "execution_count": 198,
   "metadata": {},
   "outputs": [],
   "source": [
    "# lets try to remodel our program if a vaccine was found 30 days from now instead of today\n",
    "# to do this...twe assume the stocks that were falling due to covid 19 will keep falling...vice versa\n",
    "# if BAC shares are down to 22.35 from 29.89 in 2019...they will keep decling till vaccine is found\n",
    "# the decline formula we will use is a = a + x*(dA/365) \n",
    "# where x is the days from today a vaccine is found dA is a - av2019\n",
    "# dBAC = -7.54 so if vccine was found 30 days from today we predict BAC will be = 22.35 + 30(-7.54/365) = 21.73\n",
    "# for stocks with dA < -7.54 like -30 will drop faster than BA\n",
    "\n",
    "# def updateGivenData(given_data):\n",
    "#     here The plan was to update our tuple dictionary given_data\n",
    "# ...but tuple by definition are supposed to be immutable thus we will refactor and create a class object "
   ]
  },
  {
   "cell_type": "code",
   "execution_count": 199,
   "metadata": {},
   "outputs": [],
   "source": [
    "# define stock class\n",
    "# stock class will have values or attributes priceNow, av2019, dividend percentage\n",
    "\n",
    "class Stock(object):\n",
    "#     store memory adress of all instances of object stock in here...simmialr to static or singleton pattern\n",
    "    all_stocks = []\n",
    "    \n",
    "#     pass data or stock proporties in form of dictionary that conforms with a given schema\n",
    "#     __dict__ is a dictionary of instance varibles \n",
    "    def __init__(self, params):\n",
    "        self.__dict__.update(params)\n",
    "        Stock.all_stocks.append(self)\n",
    "        \n",
    "#    add new data or stock properties by appending them to object's property list \n",
    "    def addNewData(self, params):\n",
    "        for key,value in params.items():\n",
    "            self.__dict__[key] = value"
   ]
  },
  {
   "cell_type": "code",
   "execution_count": 200,
   "metadata": {},
   "outputs": [
    {
     "name": "stdout",
     "output_type": "stream",
     "text": [
      "{'ticker': 'BAC', 'price': 15.67} BAC\n",
      "{'ticker': 'AXP', 'price': 157.2} AXP\n"
     ]
    }
   ],
   "source": [
    "# test Stock class with impromptu schema\n",
    "params = {\n",
    "    'ticker': 'BAC',\n",
    "    'price': 15.67,\n",
    "     }\n",
    "boaf = Stock(params)\n",
    "\n",
    "print(boaf.__dict__, boaf.ticker)\n",
    "\n",
    "params = {\n",
    "    'ticker': 'AXP',\n",
    "    'price': 157.2,\n",
    "     }\n",
    "americanExpress = Stock(params)\n",
    "print(americanExpress.__dict__, americanExpress.ticker)"
   ]
  },
  {
   "cell_type": "code",
   "execution_count": 201,
   "metadata": {},
   "outputs": [
    {
     "name": "stdout",
     "output_type": "stream",
     "text": [
      "BAC  has memory adress  <__main__.Stock object at 0x1064810d0>\n",
      "AXP  has memory adress  <__main__.Stock object at 0x106dca890>\n"
     ]
    }
   ],
   "source": [
    "# test accessing all objects thru class variable aka simmilar to static in JAva\n",
    "for stock in Stock.all_stocks:\n",
    "    print(stock.ticker, \" has memory adress \", stock)"
   ]
  },
  {
   "cell_type": "code",
   "execution_count": 202,
   "metadata": {},
   "outputs": [],
   "source": [
    "# Awesome! now that this works...we will resturcture the schema and \n",
    "\n",
    "schema = {\n",
    "    'ticker': str,\n",
    "    'price': float,\n",
    "    'price2019': float,\n",
    "    'dividend_percent': float\n",
    "}\n",
    "# we will now copy and paste that schema when creating instances of our class\n",
    "# another note is that the schema is dynamic we are able to append new properties to the class stock via addNewData()\n",
    "# however, if and when updating new properties we must do so for all existing objects"
   ]
  },
  {
   "cell_type": "code",
   "execution_count": 203,
   "metadata": {},
   "outputs": [
    {
     "name": "stdout",
     "output_type": "stream",
     "text": [
      "before  2\n",
      "after  0\n"
     ]
    }
   ],
   "source": [
    "# remove all prev instances of Stock \n",
    "print(\"before \", len(Stock.all_stocks))\n",
    "Stock.all_stocks = []\n",
    "print(\"after \", len(Stock.all_stocks))"
   ]
  },
  {
   "cell_type": "markdown",
   "metadata": {},
   "source": [
    "### Add Data\n",
    "\n",
    "now we want to add the previously stored data in our class from given_data, dividend_equity dictionaires we defined before\n",
    "\n"
   ]
  },
  {
   "cell_type": "code",
   "execution_count": 205,
   "metadata": {},
   "outputs": [
    {
     "name": "stdout",
     "output_type": "stream",
     "text": [
      "{'APPL': (300.63, 280.1, 20.53), 'BAC': (22.35, 29.89, -7.54), 'KO': (44.75, 52.24, -7.79), 'AXP': (20.12, 25.62, -5.5), 'WFC': (25.61, 43.97, -18.36), 'OTHER_STAKES': (172.38, 210.55, -38.17)}\n"
     ]
    }
   ],
   "source": [
    "print(given_data)\n",
    "for stock in Stock.all_stocks:\n",
    "    print(Stock.__dict__)"
   ]
  },
  {
   "cell_type": "code",
   "execution_count": 206,
   "metadata": {},
   "outputs": [],
   "source": [
    "for key, value in given_data.items():\n",
    "    schema = {\n",
    "        'ticker': key,\n",
    "        'price': value[0],\n",
    "        'price2019': value[1],\n",
    "        'dividend_percent': dividend_equity[key]\n",
    "    } \n",
    "    Stock(params)"
   ]
  },
  {
   "cell_type": "markdown",
   "metadata": {},
   "source": [
    "### print all stock data"
   ]
  },
  {
   "cell_type": "code",
   "execution_count": 207,
   "metadata": {},
   "outputs": [
    {
     "name": "stdout",
     "output_type": "stream",
     "text": [
      "{'ticker': 'AXP', 'price': 157.2}\n",
      "{'ticker': 'AXP', 'price': 157.2}\n",
      "{'ticker': 'AXP', 'price': 157.2}\n",
      "{'ticker': 'AXP', 'price': 157.2}\n",
      "{'ticker': 'AXP', 'price': 157.2}\n",
      "{'ticker': 'AXP', 'price': 157.2}\n"
     ]
    }
   ],
   "source": [
    "for stock in Stock.all_stocks:\n",
    "    print(stock.__dict__)"
   ]
  },
  {
   "cell_type": "code",
   "execution_count": 179,
   "metadata": {},
   "outputs": [],
   "source": [
    "#   schema = {\n",
    "#         'ticker': 'xe',\n",
    "#         'price': 's',\n",
    "#         'price2019': 's',\n",
    "#         'dividend_percentage': 's'\n",
    "#     }\n",
    "# xe = Stock(schema)\n",
    "# xe.ticker\n",
    "\n",
    "# for pick in Stock.all_stocks:\n",
    "#     print(pick.__dict__)"
   ]
  },
  {
   "cell_type": "code",
   "execution_count": 180,
   "metadata": {},
   "outputs": [],
   "source": [
    "# class Stock(object):\n",
    "#     all_stocks = []\n",
    "    \n",
    "#     def __init__(self, params):\n",
    "#         self.__dict__.update(params)\n",
    "#         Stock.all_stocks.append(self)\n",
    "        \n",
    "#     def addNewData(self, params):\n",
    "#         for key,value in params.items():\n",
    "#             self.__dict__[key] = value\n",
    "\n",
    "# our_holding_picks = [(\"loaf\", 'BAC')]   \n",
    "# Stock.berkshire_top_holdings = our_holding_picks\n",
    "# Stock.berkshire_top_holdings\n",
    "# for pick in Stock.berkshire_top_holdings:\n",
    "#     schema = {\n",
    "#         'ticker': pick[0],\n",
    "#         'price': 's',\n",
    "#         'price2019': 's',\n",
    "#         'dividend_percentage': 's'\n",
    "#     }\n",
    "#     name = pick[0]\n",
    "#     Stock(schema)\n",
    "# print( Stock.all_stocks[0].__dict__)"
   ]
  },
  {
   "cell_type": "code",
   "execution_count": null,
   "metadata": {},
   "outputs": [],
   "source": []
  }
 ],
 "metadata": {
  "kernelspec": {
   "display_name": "Python 3",
   "language": "python",
   "name": "python3"
  },
  "language_info": {
   "codemirror_mode": {
    "name": "ipython",
    "version": 3
   },
   "file_extension": ".py",
   "mimetype": "text/x-python",
   "name": "python",
   "nbconvert_exporter": "python",
   "pygments_lexer": "ipython3",
   "version": "3.7.4"
  }
 },
 "nbformat": 4,
 "nbformat_minor": 2
}

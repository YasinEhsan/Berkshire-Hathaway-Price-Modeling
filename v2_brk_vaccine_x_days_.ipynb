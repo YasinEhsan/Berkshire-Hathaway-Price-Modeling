{
 "cells": [
  {
   "cell_type": "code",
   "execution_count": 98,
   "metadata": {},
   "outputs": [],
   "source": [
    "# we want to calculate Berkshire Hathaway Class B(BRK-B) stock's value one year from today "
   ]
  },
  {
   "cell_type": "code",
   "execution_count": 99,
   "metadata": {},
   "outputs": [],
   "source": [
    "# given_data is a dictionary of stock to a tuple of information\n",
    "given_data = {}"
   ]
  },
  {
   "cell_type": "code",
   "execution_count": 100,
   "metadata": {},
   "outputs": [
    {
     "name": "stdout",
     "output_type": "stream",
     "text": [
      "300.63\n"
     ]
    }
   ],
   "source": [
    "# apple share may 2020 = $300.63, av share price 2019 was = $ 280.10, and delta is $20.53\n",
    "given_data[\"APPL\"] = (300.63, 280.10, 20.53)\n",
    "print(given_data[\"APPL\"][0])"
   ]
  },
  {
   "cell_type": "code",
   "execution_count": 101,
   "metadata": {},
   "outputs": [
    {
     "name": "stdout",
     "output_type": "stream",
     "text": [
      "20.12\n"
     ]
    }
   ],
   "source": [
    "# add rest of derived data\n",
    "given_data[\"BAC\"] = (22.35, 29.89, -7.54)\n",
    "given_data[\"KO\"] = (44.75, 52.24, -7.79)\n",
    "given_data[\"AXP\"] = (20.12, 25.62, -5.50)\n",
    "given_data[\"WFC\"] = (25.61, 43.97, -18.36)\n",
    "print(given_data[\"AXP\"][0])"
   ]
  },
  {
   "cell_type": "code",
   "execution_count": 102,
   "metadata": {},
   "outputs": [],
   "source": [
    "# derived_price will store share prices of stocks prices in may 2021\n",
    "derived_price = {}"
   ]
  },
  {
   "cell_type": "code",
   "execution_count": 103,
   "metadata": {},
   "outputs": [],
   "source": [
    "# calc price of stock share by using formula A + -k(dA) where A is price today, and dA is price change from last yr\n",
    "def calcPrice(given_data):\n",
    "    for stock,data in given_data.items(): \n",
    "        price_now = data[0]\n",
    "        price_av2019 = data[1]\n",
    "        delta = price_now - price_av2019\n",
    "        k = -(price_now / price_av2019)\n",
    "        derived_price[stock] = round(price_now + k*delta,2)"
   ]
  },
  {
   "cell_type": "code",
   "execution_count": 104,
   "metadata": {},
   "outputs": [
    {
     "data": {
      "text/plain": [
       "{'APPL': 278.6, 'BAC': 27.99, 'KO': 51.17, 'AXP': 24.44, 'WFC': 36.3}"
      ]
     },
     "execution_count": 104,
     "metadata": {},
     "output_type": "execute_result"
    }
   ],
   "source": [
    "calcPrice(given_data)\n",
    "derived_price"
   ]
  },
  {
   "cell_type": "code",
   "execution_count": 105,
   "metadata": {},
   "outputs": [
    {
     "name": "stdout",
     "output_type": "stream",
     "text": [
      "{'APPL': 278.6, 'BAC': 27.99, 'KO': 51.17, 'AXP': 24.44, 'WFC': 36.3}\n"
     ]
    }
   ],
   "source": [
    "# Awesome! it worked... we have an esitmate of price may 2021 for the holdings... to see them agian\n",
    "print(derived_price)"
   ]
  },
  {
   "cell_type": "code",
   "execution_count": 106,
   "metadata": {},
   "outputs": [],
   "source": [
    "# lets add what percentage of Berkshire Hathaway's revune is from each of the stocks' divendeds \n",
    "dividend_equity = {}"
   ]
  },
  {
   "cell_type": "code",
   "execution_count": 107,
   "metadata": {},
   "outputs": [
    {
     "name": "stdout",
     "output_type": "stream",
     "text": [
      "19.6\n"
     ]
    }
   ],
   "source": [
    "# APPL was 19.6% of Berkshire Hathaway's price. So...\n",
    "dividend_equity[\"APPL\"] = 19.6\n",
    "print(dividend_equity[\"APPL\"])"
   ]
  },
  {
   "cell_type": "code",
   "execution_count": 108,
   "metadata": {},
   "outputs": [
    {
     "name": "stdout",
     "output_type": "stream",
     "text": [
      "21.3\n"
     ]
    }
   ],
   "source": [
    "# Add remainng equities \n",
    "dividend_equity[\"BAC\"] = 14.5\n",
    "dividend_equity[\"KO\"] = 16.4\n",
    "dividend_equity[\"AXP\"] = 6.2\n",
    "dividend_equity[\"WFC\"] = 21.3\n",
    "print(dividend_equity[\"WFC\"])"
   ]
  },
  {
   "cell_type": "code",
   "execution_count": 109,
   "metadata": {},
   "outputs": [
    {
     "data": {
      "text/plain": [
       "78.0"
      ]
     },
     "execution_count": 109,
     "metadata": {},
     "output_type": "execute_result"
    }
   ],
   "source": [
    "# find sum of dividened stakes\n",
    "def calcTotalEquity(dividend_equity):\n",
    "    sum = 0\n",
    "    for percentage in dividend_equity.values():\n",
    "        sum += percentage\n",
    "    return sum\n",
    "calcTotalEquity(dividend_equity)"
   ]
  },
  {
   "cell_type": "code",
   "execution_count": 110,
   "metadata": {},
   "outputs": [
    {
     "data": {
      "text/plain": [
       "100.0"
      ]
     },
     "execution_count": 110,
     "metadata": {},
     "output_type": "execute_result"
    }
   ],
   "source": [
    "# add remaining stakes...did this if we wanted to add another Berkshire Hathaway stock later...code is modular + ready\n",
    "dividend_equity[\"OTHER_STAKES\"] = 100 - calcTotalEquity(dividend_equity)\n",
    "# total equity now should be 100\n",
    "calcTotalEquity(dividend_equity)"
   ]
  },
  {
   "cell_type": "code",
   "execution_count": 111,
   "metadata": {},
   "outputs": [
    {
     "name": "stdout",
     "output_type": "stream",
     "text": [
      "{'APPL': 278.6, 'BAC': 27.99, 'KO': 51.17, 'AXP': 24.44, 'WFC': 36.3, 'OTHER_STAKES': 203.63}\n"
     ]
    }
   ],
   "source": [
    "# # get other stakes percentage...78 percent make the above comapnies...we want to represent the remaining as its own stock\n",
    "# OTS_percent = dividend_equity[\"OTHER_STAKES\"] /100\n",
    "given_data[\"OTHER_STAKES\"] = (172.38, 210.55, -38.17)\n",
    "calcPrice(given_data)\n",
    "print(derived_price)"
   ]
  },
  {
   "cell_type": "code",
   "execution_count": 112,
   "metadata": {},
   "outputs": [
    {
     "name": "stdout",
     "output_type": "stream",
     "text": [
      "BRK-B price day vaccine found $ 172.38 \n",
      "BRK-B price in May 2021 $ 208.76\n"
     ]
    },
    {
     "data": {
      "text/plain": [
       "208.76"
      ]
     },
     "execution_count": 112,
     "metadata": {},
     "output_type": "execute_result"
    }
   ],
   "source": [
    "# calc berk-B new price in may 2021\n",
    "def calcUpdatedBRKPrice(derived_price, dividend_equity, brk_price):\n",
    "    newPrice = 0\n",
    "    for stock, price in derived_price.items():\n",
    "        newPrice += price*dividend_equity[stock]/100\n",
    "    updatedProportion = round(brk_price * newPrice /100, 2)\n",
    "    print(\"BRK-B price day vaccine found $\",brk_price, \"\\nBRK-B price in May 2021 $\", updatedProportion)\n",
    "    return updatedProportion\n",
    "\n",
    "brk_price = given_data[\"OTHER_STAKES\"][0]\n",
    "calcUpdatedBRKPrice(derived_price, dividend_equity, brk_price)"
   ]
  },
  {
   "cell_type": "code",
   "execution_count": 113,
   "metadata": {},
   "outputs": [],
   "source": [
    "# lets try to remodel our program if a vaccine was found 30 days from now instead of today\n",
    "# to do this...twe assume the stocks that were falling due to covid 19 will keep falling...vice versa\n",
    "# if BAC shares are down to 22.35 from 29.89 in 2019...they will keep decling till vaccine is found\n",
    "# the decline formula we will use is a = a + x*(dA/365) \n",
    "# where x is the days from today a vaccine is found dA is a - av2019\n",
    "# dBAC = -7.54 so if vccine was found 30 days from today we predict BAC will be = 22.35 + 30(-7.54/365) = 21.73\n",
    "# for stocks with dA < -7.54 like -30 will drop faster than BA"
   ]
  },
  {
   "cell_type": "code",
   "execution_count": 114,
   "metadata": {},
   "outputs": [],
   "source": [
    "# store updated stock prices if vaccine was found 30 days from today\n",
    "# pastData is of form Key:Value where key is the ticker and value is tuple (stockToday, stock2019, change)\n",
    "data_in_30days = {}\n",
    "def calcUpdatedData(pastData, newData, numOfDays):\n",
    "    for key, value in pastData.items():\n",
    "        oldPrice = value[0]\n",
    "        price_av2019 = value[1]\n",
    "        newPrice = updateSharePrice(oldPrice, oldPrice - price_av2019, numOfDays)\n",
    "        newData[key] = (newPrice, price_av2019)\n",
    "        \n",
    "def updateSharePrice(oldPrice, delta, days):\n",
    "    return round(oldPrice + days*delta/365,2)"
   ]
  },
  {
   "cell_type": "code",
   "execution_count": 115,
   "metadata": {},
   "outputs": [
    {
     "name": "stdout",
     "output_type": "stream",
     "text": [
      "{'APPL': (300.63, 280.1, 20.53), 'BAC': (22.35, 29.89, -7.54), 'KO': (44.75, 52.24, -7.79), 'AXP': (20.12, 25.62, -5.5), 'WFC': (25.61, 43.97, -18.36), 'OTHER_STAKES': (172.38, 210.55, -38.17)} {'APPL': (302.32, 280.1), 'BAC': (21.73, 29.89), 'KO': (44.13, 52.24), 'AXP': (19.67, 25.62), 'WFC': (24.1, 43.97), 'OTHER_STAKES': (169.24, 210.55)}\n"
     ]
    }
   ],
   "source": [
    "calcUpdatedData(given_data, data_in_30days, 30)\n",
    "print(given_data, data_in_30days)"
   ]
  },
  {
   "cell_type": "code",
   "execution_count": 121,
   "metadata": {},
   "outputs": [
    {
     "name": "stdout",
     "output_type": "stream",
     "text": [
      "heres the changes in prices if vaccine was found in 30 days...\n",
      "\n",
      "APPL  300.63 --> 302.32\n",
      "BAC  22.35 --> 21.73\n",
      "KO  44.75 --> 44.13\n",
      "AXP  20.12 --> 19.67\n",
      "WFC  25.61 --> 24.1\n",
      "OTHER_STAKES  172.38 --> 169.24\n"
     ]
    }
   ],
   "source": [
    "# a better way of visualizing the change in data\n",
    "def compareData(pastData, newData, numOfDays):\n",
    "    print(\"heres the changes in prices if vaccine was found in \" + str(numOfDays) +\" days...\\n\")\n",
    "    for key, value in pastData.items():\n",
    "        print(key,\"\", value[0], \"-->\", newData[key][0])\n",
    "compareData(given_data, data_in_30days, 30)"
   ]
  },
  {
   "cell_type": "code",
   "execution_count": 117,
   "metadata": {},
   "outputs": [
    {
     "name": "stdout",
     "output_type": "stream",
     "text": [
      "{'APPL': [], 'BAC': [], 'KO': [], 'AXP': [], 'WFC': [], 'OTHER_STAKES': []}\n",
      "{'APPL': [300.63], 'BAC': [22.35], 'KO': [44.75], 'AXP': [20.12], 'WFC': [25.61], 'OTHER_STAKES': [172.38]}\n",
      "{'APPL': [300.63, 302.32], 'BAC': [22.35, 21.73], 'KO': [44.75, 44.13], 'AXP': [20.12, 19.67], 'WFC': [25.61, 24.1], 'OTHER_STAKES': [172.38, 169.24]}\n"
     ]
    }
   ],
   "source": [
    "# lets store the calcualted price in an another dict with values of arrays of prices based on what day vaccince was found\n",
    "data_in_Xdays = {}\n",
    "for key in given_data:\n",
    "    data_in_Xdays[key] = []\n",
    "print(data_in_Xdays)\n",
    "\n",
    "def storeDataInXDays(data_in_Xdays, given_data): \n",
    "    for key in given_data:\n",
    "        data_in_Xdays[key].append(given_data[key][0])\n",
    "        \n",
    "# storing data of individual stock prices if vaccine was found today \n",
    "storeDataInXDays(data_in_Xdays, given_data)\n",
    "print(data_in_Xdays)\n",
    "\n",
    "# storing data of individual stock prices if vaccine was found 30 days from today\n",
    "storeDataInXDays(data_in_Xdays, data_in_30days)\n",
    "print(data_in_Xdays)"
   ]
  },
  {
   "cell_type": "code",
   "execution_count": 118,
   "metadata": {},
   "outputs": [
    {
     "name": "stdout",
     "output_type": "stream",
     "text": [
      "if vaccine was found today...\n",
      "BRK-B price day vaccine found $ 172.38 \n",
      "BRK-B price in May 2021 $ 208.76\n"
     ]
    }
   ],
   "source": [
    "# lets calc our BRK price again if a vaccine was found today \n",
    "print(\"if vaccine was found today...\")\n",
    "brk_price = given_data[\"OTHER_STAKES\"][0]\n",
    "futurePrice = calcUpdatedBRKPrice(derived_price, dividend_equity, brk_price)\n",
    "\n",
    "brk_prices_if_vaccineXdays = []\n",
    "brk_prices_if_vaccineXdays.append((0,futurePrice))"
   ]
  },
  {
   "cell_type": "code",
   "execution_count": 119,
   "metadata": {},
   "outputs": [
    {
     "name": "stdout",
     "output_type": "stream",
     "text": [
      "if vaccine was found 30 days from today...\n",
      "BRK-B price day vaccine found $ 169.24 \n",
      "BRK-B price in May 2021 $ 203.8\n"
     ]
    }
   ],
   "source": [
    "# now clac updatedBRK Price if Vaccine found in 30 days\n",
    "print(\"if vaccine was found 30 days from today...\")\n",
    "calcPrice(data_in_30days)\n",
    "brk_price = data_in_30days[\"OTHER_STAKES\"][0]\n",
    "futurePrice = calcUpdatedBRKPrice(derived_price, dividend_equity, brk_price)\n",
    "\n",
    "brk_prices_if_vaccineXdays = []\n",
    "brk_prices_if_vaccineXdays.append((0,futurePrice))"
   ]
  },
  {
   "cell_type": "markdown",
   "metadata": {},
   "source": [
    "## Results are positive! 🎉\n",
    "If vaccine was found later from today BRK shares would be a little lower than if it was found today...as data shows"
   ]
  },
  {
   "cell_type": "markdown",
   "metadata": {},
   "source": [
    "lets test our modular code and put it to the test by determining BRK price if vaccine was found in X days...we will call:\n",
    "\n",
    "- calcUpdatedData(pastData, newData, numOfDays)\n",
    "- compareData(pastData, newData, numOfDays)\n",
    "- storeDataInXDays(data_in_Xdays, newData)\n",
    "- calcUpdatedBRKPrice(derived_price, dividend_equity, brk_price)\n",
    "- brk_prices_if_vaccineXdays.append((0,futurePrice))\n",
    "\n",
    "**This is our update function**"
   ]
  },
  {
   "cell_type": "code",
   "execution_count": 125,
   "metadata": {},
   "outputs": [],
   "source": [
    "def vaccineFoundInXDays(numOfDays):\n",
    "    data_before_vaccine_found = {}\n",
    "    calcUpdatedData(given_data, data_before_vaccine_found , numOfDays)\n",
    "    compareData(given_data, data_before_vaccine_found , numOfDays)\n",
    "    storeDataInXDays(data_in_Xdays, data_before_vaccine_found )\n",
    "    \n",
    "    calcPrice(data_before_vaccine_found )\n",
    "    brk_price = data_before_vaccine_found[\"OTHER_STAKES\"][0]\n",
    "    print(\"\\n\")\n",
    "    \n",
    "    futurePrice = calcUpdatedBRKPrice(derived_price, dividend_equity, brk_price)\n",
    "    brk_prices_if_vaccineXdays = []\n",
    "    brk_prices_if_vaccineXdays.append((numOfDays,futurePrice))\n"
   ]
  },
  {
   "cell_type": "markdown",
   "metadata": {},
   "source": [
    "lets call our update function with if we found vaccine in 30 days and see if matches with the previous results...\n",
    "> if vaccine was found 30 days from today... \n",
    "\n",
    "> BRK-B price day vaccine found $ 169.24 \n",
    "\n",
    "> BRK-B price in May 2021 $ 203.8"
   ]
  },
  {
   "cell_type": "code",
   "execution_count": 123,
   "metadata": {},
   "outputs": [
    {
     "name": "stdout",
     "output_type": "stream",
     "text": [
      "heres the changes in prices if vaccine was found in 30 days...\n",
      "\n",
      "APPL  300.63 --> 302.32\n",
      "BAC  22.35 --> 21.73\n",
      "KO  44.75 --> 44.13\n",
      "AXP  20.12 --> 19.67\n",
      "WFC  25.61 --> 24.1\n",
      "OTHER_STAKES  172.38 --> 169.24\n",
      "BRK-B price day vaccine found $ 169.24 \n",
      "BRK-B price in May 2021 $ 203.8\n"
     ]
    }
   ],
   "source": [
    "vaccineFoundInXDays(30)"
   ]
  },
  {
   "cell_type": "markdown",
   "metadata": {},
   "source": [
    "## Results are positive! 🎉\n",
    "results from update function AKA vaccineFoundInXDays(numOFDays) match the results calculated prev\n"
   ]
  },
  {
   "cell_type": "markdown",
   "metadata": {},
   "source": [
    "Lets calculate BRK-B Prices for 60 days and 90 days...\n",
    "each should be getting smaller as the days a vaccine found increaeses"
   ]
  },
  {
   "cell_type": "code",
   "execution_count": 126,
   "metadata": {},
   "outputs": [
    {
     "name": "stdout",
     "output_type": "stream",
     "text": [
      "heres the changes in prices if vaccine was found in 60 days...\n",
      "\n",
      "APPL  300.63 --> 304.0\n",
      "BAC  22.35 --> 21.11\n",
      "KO  44.75 --> 43.52\n",
      "AXP  20.12 --> 19.22\n",
      "WFC  25.61 --> 22.59\n",
      "OTHER_STAKES  172.38 --> 166.11\n",
      "/n\n",
      "BRK-B price day vaccine found $ 166.11 \n",
      "BRK-B price in May 2021 $ 198.81\n"
     ]
    }
   ],
   "source": [
    "vaccineFoundInXDays(60)"
   ]
  }
 ],
 "metadata": {
  "kernelspec": {
   "display_name": "Python 3",
   "language": "python",
   "name": "python3"
  },
  "language_info": {
   "codemirror_mode": {
    "name": "ipython",
    "version": 3
   },
   "file_extension": ".py",
   "mimetype": "text/x-python",
   "name": "python",
   "nbconvert_exporter": "python",
   "pygments_lexer": "ipython3",
   "version": "3.7.4"
  }
 },
 "nbformat": 4,
 "nbformat_minor": 2
}
